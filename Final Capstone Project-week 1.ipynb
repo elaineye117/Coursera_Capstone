{
 "cells": [
  {
   "cell_type": "markdown",
   "metadata": {},
   "source": [
    "# Capstone Project - the Battle of Neighborhoods\n",
    "### 1.1 Intoduction\n",
    "    I am a data science student currently pursuing master degree in the University of Michigan, Ann Arbor. I hope to find a job in New York after graduation. New York is a big city unlike Ann Arbor, I would like to find a affordable place to live in Manhattan with easy access to metro station and similar venues to my current location in Ann Arbor. \n",
    "\n",
    "### 1.2 Business Problem\n",
    "    This project aims to find living location in New York City the resembles to the currently area I am living in. It should meet the following criterias: Apartment with min 1 bedrooms with monthly rent not exceed 3000USD/month; area should located close to a metro station with walkign distance of 1 mile; area with ammentities and nenues similar to my current location in Ann Arbor. "
   ]
  },
  {
   "cell_type": "markdown",
   "metadata": {},
   "source": [
    "### 2.1 Data Acqusition\n",
    "    The data acquired for this project is a combination of data from two sources. the first data source of the project uses a Manhattan neighborhood data which is a CSV file that I download and stored in this Github repository. The second data source is foursquare API which will retrieve data about venues in different neighborhoods. Venues retrieved from all the neighborhoods are categorized broadly into \"Arts & Entertainment\", \"College & University\", \"Event\", \"Food\", \"Nightlife Spot\", \"Outdoors & Recreation\", etc. An extract of an API call is as follows.\n"
   ]
  },
  {
   "cell_type": "code",
   "execution_count": 36,
   "metadata": {},
   "outputs": [
    {
     "name": "stdout",
     "output_type": "stream",
     "text": [
      "Collecting package metadata (current_repodata.json): done\n",
      "Solving environment: done\n",
      "\n",
      "# All requested packages already installed.\n",
      "\n",
      "Collecting package metadata (current_repodata.json): done\n",
      "Solving environment: done\n",
      "\n",
      "# All requested packages already installed.\n",
      "\n",
      "Libraries imported.\n"
     ]
    }
   ],
   "source": [
    "import numpy as np # library to handle data in a vectorized manner\n",
    "import time\n",
    "import pandas as pd # library for data analsysis\n",
    "pd.set_option('display.max_columns', None)\n",
    "pd.set_option('display.max_rows', None)\n",
    "\n",
    "import json # library to handle JSON files\n",
    "import requests # library to handle requests\n",
    "from pandas.io.json import json_normalize # tranform JSON file into a pandas dataframe\n",
    "\n",
    "\n",
    "!conda install -c conda-forge geopy --yes # uncomment this line if you haven't completed the Foursquare API lab\n",
    "from geopy.geocoders import Nominatim # convert an address into latitude and longitude values\n",
    "\n",
    "!conda install -c conda-forge folium=0.5.0 --yes # uncomment this line if you haven't completed the Foursquare API lab\n",
    "import folium # map rendering library\n",
    "import folium # map rendering library\n",
    "from folium import plugins\n",
    "\n",
    "# Matplotlib and associated plotting modules\n",
    "import matplotlib.cm as cm\n",
    "import matplotlib.colors as colors\n",
    "\n",
    "import seaborn as sns\n",
    "\n",
    "# import k-means from clustering stage\n",
    "from sklearn.cluster import KMeans\n",
    "\n",
    "\n",
    "\n",
    "print('Libraries imported.')"
   ]
  },
  {
   "cell_type": "code",
   "execution_count": 37,
   "metadata": {},
   "outputs": [
    {
     "name": "stderr",
     "output_type": "stream",
     "text": [
      "/Users/yiqiye/opt/anaconda3/lib/python3.7/site-packages/ipykernel_launcher.py:3: DeprecationWarning: Using Nominatim with the default \"geopy/1.20.0\" `user_agent` is strongly discouraged, as it violates Nominatim's ToS https://operations.osmfoundation.org/policies/nominatim/ and may possibly cause 403 and 429 HTTP errors. Please specify a custom `user_agent` with `Nominatim(user_agent=\"my-application\")` or by overriding the default `user_agent`: `geopy.geocoders.options.default_user_agent = \"my-application\"`. In geopy 2.0 this will become an exception.\n",
      "  This is separate from the ipykernel package so we can avoid doing imports until\n"
     ]
    },
    {
     "name": "stdout",
     "output_type": "stream",
     "text": [
      "The geograpical coordinate of Ann Arbor home are 42.278316, -83.446068.\n"
     ]
    }
   ],
   "source": [
    "# Main Street, Ann Arbor\n",
    "address = 'Main Street, Ann Arbor'\n",
    "geolocator = Nominatim()\n",
    "location = geolocator.geocode(address)\n",
    "latitude = location.latitude\n",
    "longitude = location.longitude\n",
    "print('The geograpical coordinate of Ann Arbor home are {}, {}.'.format(latitude, longitude))"
   ]
  },
  {
   "cell_type": "code",
   "execution_count": 38,
   "metadata": {},
   "outputs": [],
   "source": [
    "neighborhood_latitude = 42.278316\n",
    "neighborhood_longitude = -83.446068"
   ]
  },
  {
   "cell_type": "code",
   "execution_count": 39,
   "metadata": {},
   "outputs": [
    {
     "name": "stdout",
     "output_type": "stream",
     "text": [
      "Your credentails:\n",
      "CLIENT_ID: PCIYT1TURHZH5PWRZQEW5OHMWG4FDECALQL52YLVKBUCSHUU\n",
      "CLIENT_SECRET:ESCH1WQI5P2SR1KRGUWQARYIEJONJXK3JXB4XDOM0SBEAKGR\n"
     ]
    }
   ],
   "source": [
    "# @hidden_cell\n",
    "CLIENT_ID = 'PCIYT1TURHZH5PWRZQEW5OHMWG4FDECALQL52YLVKBUCSHUU' # your Foursquare ID\n",
    "CLIENT_SECRET = 'ESCH1WQI5P2SR1KRGUWQARYIEJONJXK3JXB4XDOM0SBEAKGR' # your Foursquare Secret\n",
    "VERSION = '20200114' # Foursquare API version\n",
    "\n",
    "print('Your credentails:')\n",
    "print('CLIENT_ID: ' + CLIENT_ID)\n",
    "print('CLIENT_SECRET:' + CLIENT_SECRET)"
   ]
  },
  {
   "cell_type": "code",
   "execution_count": 45,
   "metadata": {},
   "outputs": [
    {
     "data": {
      "text/plain": [
       "'https://api.foursquare.com/v2/venues/explore?&client_id=PCIYT1TURHZH5PWRZQEW5OHMWG4FDECALQL52YLVKBUCSHUU&client_secret=ESCH1WQI5P2SR1KRGUWQARYIEJONJXK3JXB4XDOM0SBEAKGR&v=20200114&ll=42.278316,-83.446068&radius=500&limit=100'"
      ]
     },
     "execution_count": 45,
     "metadata": {},
     "output_type": "execute_result"
    }
   ],
   "source": [
    "LIMIT = 100 # limit of number of venues returned by Foursquare API\n",
    "radius = 500 # define radius\n",
    "# create URL\n",
    "url = 'https://api.foursquare.com/v2/venues/explore?&client_id={}&client_secret={}&v={}&ll={},{}&radius={}&limit={}'.format(\n",
    "    CLIENT_ID, \n",
    "    CLIENT_SECRET, \n",
    "    VERSION, \n",
    "    neighborhood_latitude, \n",
    "    neighborhood_longitude, \n",
    "    radius, \n",
    "    LIMIT)\n",
    "url # display URL"
   ]
  },
  {
   "cell_type": "code",
   "execution_count": 46,
   "metadata": {},
   "outputs": [
    {
     "data": {
      "text/plain": [
       "{'meta': {'code': 200, 'requestId': '5e1e7d121835dd001b1f42ca'},\n",
       " 'response': {'headerLocation': 'Canton',\n",
       "  'headerFullLocation': 'Canton',\n",
       "  'headerLocationGranularity': 'city',\n",
       "  'totalResults': 4,\n",
       "  'suggestedBounds': {'ne': {'lat': 42.2828160045, 'lng': -83.43999732964825},\n",
       "   'sw': {'lat': 42.273815995499994, 'lng': -83.45213867035174}},\n",
       "  'groups': [{'type': 'Recommended Places',\n",
       "    'name': 'recommended',\n",
       "    'items': [{'reasons': {'count': 0,\n",
       "       'items': [{'summary': 'This spot is popular',\n",
       "         'type': 'general',\n",
       "         'reasonName': 'globalInteractionReason'}]},\n",
       "      'venue': {'id': '514213c23d7ca5b4135a9d9a',\n",
       "       'name': \"Jimmy John's\",\n",
       "       'location': {'address': '41439 Michigan Ave',\n",
       "        'crossStreet': 'at Haggerty',\n",
       "        'lat': 42.27810943782562,\n",
       "        'lng': -83.44768015763326,\n",
       "        'labeledLatLngs': [{'label': 'display',\n",
       "          'lat': 42.27810943782562,\n",
       "          'lng': -83.44768015763326}],\n",
       "        'distance': 134,\n",
       "        'postalCode': '48188',\n",
       "        'cc': 'US',\n",
       "        'city': 'Canton',\n",
       "        'state': 'MI',\n",
       "        'country': 'United States',\n",
       "        'formattedAddress': ['41439 Michigan Ave (at Haggerty)',\n",
       "         'Canton, MI 48188',\n",
       "         'United States']},\n",
       "       'categories': [{'id': '4bf58dd8d48988d1c5941735',\n",
       "         'name': 'Sandwich Place',\n",
       "         'pluralName': 'Sandwich Places',\n",
       "         'shortName': 'Sandwiches',\n",
       "         'icon': {'prefix': 'https://ss3.4sqi.net/img/categories_v2/food/deli_',\n",
       "          'suffix': '.png'},\n",
       "         'primary': True}],\n",
       "       'photos': {'count': 0, 'groups': []}},\n",
       "      'referralId': 'e-0-514213c23d7ca5b4135a9d9a-0'},\n",
       "     {'reasons': {'count': 0,\n",
       "       'items': [{'summary': 'This spot is popular',\n",
       "         'type': 'general',\n",
       "         'reasonName': 'globalInteractionReason'}]},\n",
       "      'venue': {'id': '5ddea9575ec6da00088b983a',\n",
       "       'name': 'Leos Coney Island',\n",
       "       'location': {'address': 'Michigan',\n",
       "        'crossStreet': 'Haggerty Rd',\n",
       "        'lat': 42.278966,\n",
       "        'lng': -83.449362,\n",
       "        'labeledLatLngs': [{'label': 'display',\n",
       "          'lat': 42.278966,\n",
       "          'lng': -83.449362}],\n",
       "        'distance': 280,\n",
       "        'postalCode': '48188',\n",
       "        'cc': 'US',\n",
       "        'city': 'Canton',\n",
       "        'state': 'MI',\n",
       "        'country': 'United States',\n",
       "        'formattedAddress': ['Michigan (Haggerty Rd)',\n",
       "         'Canton, MI 48188',\n",
       "         'United States']},\n",
       "       'categories': [{'id': '4bf58dd8d48988d1f9941735',\n",
       "         'name': 'Food & Drink Shop',\n",
       "         'pluralName': 'Food & Drink Shops',\n",
       "         'shortName': 'Food & Drink',\n",
       "         'icon': {'prefix': 'https://ss3.4sqi.net/img/categories_v2/shops/foodanddrink_',\n",
       "          'suffix': '.png'},\n",
       "         'primary': True}],\n",
       "       'delivery': {'id': '1733849',\n",
       "        'url': 'https://www.grubhub.com/restaurant/leos-coney-island-41584-michigan-ave-canton/1733849?affiliate=1131&utm_source=foursquare-affiliate-network&utm_medium=affiliate&utm_campaign=1131&utm_content=1733849',\n",
       "        'provider': {'name': 'grubhub',\n",
       "         'icon': {'prefix': 'https://fastly.4sqi.net/img/general/cap/',\n",
       "          'sizes': [40, 50],\n",
       "          'name': '/delivery_provider_grubhub_20180129.png'}}},\n",
       "       'photos': {'count': 0, 'groups': []}},\n",
       "      'referralId': 'e-0-5ddea9575ec6da00088b983a-1'},\n",
       "     {'reasons': {'count': 0,\n",
       "       'items': [{'summary': 'This spot is popular',\n",
       "         'type': 'general',\n",
       "         'reasonName': 'globalInteractionReason'}]},\n",
       "      'venue': {'id': '4f3254d919836c91c7cd3e30',\n",
       "       'name': \"Schwan's Consumer Brands\",\n",
       "       'location': {'address': '4360 S Haggerty Rd',\n",
       "        'lat': 42.275358,\n",
       "        'lng': -83.446662,\n",
       "        'labeledLatLngs': [{'label': 'display',\n",
       "          'lat': 42.275358,\n",
       "          'lng': -83.446662}],\n",
       "        'distance': 332,\n",
       "        'postalCode': '48188',\n",
       "        'cc': 'US',\n",
       "        'city': 'Canton',\n",
       "        'state': 'MI',\n",
       "        'country': 'United States',\n",
       "        'formattedAddress': ['4360 S Haggerty Rd',\n",
       "         'Canton, MI 48188',\n",
       "         'United States']},\n",
       "       'categories': [{'id': '4d4b7105d754a06374d81259',\n",
       "         'name': 'Food',\n",
       "         'pluralName': 'Food',\n",
       "         'shortName': 'Food',\n",
       "         'icon': {'prefix': 'https://ss3.4sqi.net/img/categories_v2/food/default_',\n",
       "          'suffix': '.png'},\n",
       "         'primary': True}],\n",
       "       'photos': {'count': 0, 'groups': []}},\n",
       "      'referralId': 'e-0-4f3254d919836c91c7cd3e30-2'},\n",
       "     {'reasons': {'count': 0,\n",
       "       'items': [{'summary': 'This spot is popular',\n",
       "         'type': 'general',\n",
       "         'reasonName': 'globalInteractionReason'}]},\n",
       "      'venue': {'id': '4f44db1619836ed0019702ac',\n",
       "       'name': 'Kraft Pizza',\n",
       "       'location': {'address': '4360 S Haggerty Rd',\n",
       "        'lat': 42.275185,\n",
       "        'lng': -83.448583,\n",
       "        'labeledLatLngs': [{'label': 'display',\n",
       "          'lat': 42.275185,\n",
       "          'lng': -83.448583}],\n",
       "        'distance': 405,\n",
       "        'postalCode': '48188',\n",
       "        'cc': 'US',\n",
       "        'city': 'Canton',\n",
       "        'state': 'MI',\n",
       "        'country': 'United States',\n",
       "        'formattedAddress': ['4360 S Haggerty Rd',\n",
       "         'Canton, MI 48188',\n",
       "         'United States']},\n",
       "       'categories': [{'id': '4bf58dd8d48988d1ca941735',\n",
       "         'name': 'Pizza Place',\n",
       "         'pluralName': 'Pizza Places',\n",
       "         'shortName': 'Pizza',\n",
       "         'icon': {'prefix': 'https://ss3.4sqi.net/img/categories_v2/food/pizza_',\n",
       "          'suffix': '.png'},\n",
       "         'primary': True}],\n",
       "       'photos': {'count': 0, 'groups': []}},\n",
       "      'referralId': 'e-0-4f44db1619836ed0019702ac-3'}]}]}}"
      ]
     },
     "execution_count": 46,
     "metadata": {},
     "output_type": "execute_result"
    }
   ],
   "source": [
    "# results display is hidden for report simplification \n",
    "results = requests.get(url).json()\n",
    "results"
   ]
  },
  {
   "cell_type": "markdown",
   "metadata": {},
   "source": [
    "### Function that extracts the category of the venue - from Foursquare lab"
   ]
  },
  {
   "cell_type": "code",
   "execution_count": 47,
   "metadata": {},
   "outputs": [],
   "source": [
    "def get_category_type(row):\n",
    "    try:\n",
    "        categories_list = row['categories']\n",
    "    except:\n",
    "        categories_list = row['venue.categories']\n",
    "        \n",
    "    if len(categories_list) == 0:\n",
    "        return None\n",
    "    else:\n",
    "        return categories_list[0]['name']"
   ]
  },
  {
   "cell_type": "code",
   "execution_count": 48,
   "metadata": {},
   "outputs": [
    {
     "data": {
      "text/plain": [
       "(4, 4)"
      ]
     },
     "execution_count": 48,
     "metadata": {},
     "output_type": "execute_result"
    }
   ],
   "source": [
    "\n",
    "venues = results['response']['groups'][0]['items']\n",
    "AAnearby_venues = json_normalize(venues) # flatten JSON\n",
    "# filter columns\n",
    "filtered_columns = ['venue.name', 'venue.categories', 'venue.location.lat', 'venue.location.lng']\n",
    "AAnearby_venues =AAnearby_venues.loc[:, filtered_columns]\n",
    "# filter the category for each row\n",
    "AAnearby_venues['venue.categories'] = AAnearby_venues.apply(get_category_type, axis=1)\n",
    "# clean columns\n",
    "AAnearby_venues.columns = [col.split(\".\")[-1] for col in AAnearby_venues.columns]\n",
    "\n",
    "AAnearby_venues.shape"
   ]
  },
  {
   "cell_type": "code",
   "execution_count": 50,
   "metadata": {},
   "outputs": [
    {
     "data": {
      "text/html": [
       "<div>\n",
       "<style scoped>\n",
       "    .dataframe tbody tr th:only-of-type {\n",
       "        vertical-align: middle;\n",
       "    }\n",
       "\n",
       "    .dataframe tbody tr th {\n",
       "        vertical-align: top;\n",
       "    }\n",
       "\n",
       "    .dataframe thead th {\n",
       "        text-align: right;\n",
       "    }\n",
       "</style>\n",
       "<table border=\"1\" class=\"dataframe\">\n",
       "  <thead>\n",
       "    <tr style=\"text-align: right;\">\n",
       "      <th></th>\n",
       "      <th>name</th>\n",
       "      <th>categories</th>\n",
       "      <th>lat</th>\n",
       "      <th>lng</th>\n",
       "    </tr>\n",
       "  </thead>\n",
       "  <tbody>\n",
       "    <tr>\n",
       "      <td>0</td>\n",
       "      <td>Jimmy John's</td>\n",
       "      <td>Sandwich Place</td>\n",
       "      <td>42.278109</td>\n",
       "      <td>-83.447680</td>\n",
       "    </tr>\n",
       "    <tr>\n",
       "      <td>1</td>\n",
       "      <td>Leos Coney Island</td>\n",
       "      <td>Food &amp; Drink Shop</td>\n",
       "      <td>42.278966</td>\n",
       "      <td>-83.449362</td>\n",
       "    </tr>\n",
       "    <tr>\n",
       "      <td>2</td>\n",
       "      <td>Schwan's Consumer Brands</td>\n",
       "      <td>Food</td>\n",
       "      <td>42.275358</td>\n",
       "      <td>-83.446662</td>\n",
       "    </tr>\n",
       "    <tr>\n",
       "      <td>3</td>\n",
       "      <td>Kraft Pizza</td>\n",
       "      <td>Pizza Place</td>\n",
       "      <td>42.275185</td>\n",
       "      <td>-83.448583</td>\n",
       "    </tr>\n",
       "  </tbody>\n",
       "</table>\n",
       "</div>"
      ],
      "text/plain": [
       "                       name         categories        lat        lng\n",
       "0              Jimmy John's     Sandwich Place  42.278109 -83.447680\n",
       "1         Leos Coney Island  Food & Drink Shop  42.278966 -83.449362\n",
       "2  Schwan's Consumer Brands               Food  42.275358 -83.446662\n",
       "3               Kraft Pizza        Pizza Place  42.275185 -83.448583"
      ]
     },
     "execution_count": 50,
     "metadata": {},
     "output_type": "execute_result"
    }
   ],
   "source": [
    "AAnearby_venues"
   ]
  }
 ],
 "metadata": {
  "kernelspec": {
   "display_name": "Python 3",
   "language": "python",
   "name": "python3"
  },
  "language_info": {
   "codemirror_mode": {
    "name": "ipython",
    "version": 3
   },
   "file_extension": ".py",
   "mimetype": "text/x-python",
   "name": "python",
   "nbconvert_exporter": "python",
   "pygments_lexer": "ipython3",
   "version": "3.7.4"
  }
 },
 "nbformat": 4,
 "nbformat_minor": 2
}
